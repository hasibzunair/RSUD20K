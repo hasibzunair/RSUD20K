{
 "cells": [
  {
   "cell_type": "code",
   "execution_count": 38,
   "metadata": {},
   "outputs": [],
   "source": [
    "import os"
   ]
  },
  {
   "cell_type": "markdown",
   "metadata": {},
   "source": [
    "### Remove images for which we have no labels (*.txt file)"
   ]
  },
  {
   "cell_type": "code",
   "execution_count": null,
   "metadata": {},
   "outputs": [],
   "source": [
    "path = \"../datasets/unlb/\"\n",
    "\n",
    "images = os.listdir(os.path.join(path, \"images\"))\n",
    "print(f\"Images: {len(images)}\")\n",
    "\n",
    "label = os.listdir(os.path.join(path, \"labels\"))\n",
    "print(f\"Label: {len(label)}\")\n",
    "\n",
    "\n",
    "missing_files = []\n",
    "\n",
    "for img in images:\n",
    "    img_name = os.path.splitext(img)[0]\n",
    "    if img_name not in [os.path.splitext(lab)[0] for lab in label]:\n",
    "        missing_files.append(img_name)\n",
    "        print(f\"Removing file: ../datasets/unlb/images/{img_name}.jpg\")\n",
    "        os.remove(f\"../datasets/unlb/images/{img_name}.jpg\")\n",
    "\n",
    "print(\"Status of Missing labels.\")\n",
    "if len(missing_files) == 0:\n",
    "    print(\"No missing labels found!!!\")\n",
    "else:\n",
    "    for i in missing_files:\n",
    "        print(i)"
   ]
  },
  {
   "cell_type": "code",
   "execution_count": null,
   "metadata": {},
   "outputs": [],
   "source": [
    "len(missing_files)"
   ]
  },
  {
   "cell_type": "markdown",
   "metadata": {},
   "source": [
    "### Check if text files valid"
   ]
  },
  {
   "cell_type": "code",
   "execution_count": null,
   "metadata": {},
   "outputs": [],
   "source": [
    "import os\n",
    "import re\n",
    "\n",
    "\n",
    "def contains_numbers(file_path):\n",
    "    with open(file_path, 'r') as file:\n",
    "        content = file.read()\n",
    "        # Use regular expression to check if the content contains any numbers\n",
    "        return bool(re.search(r'\\d', content))\n",
    "    \n",
    "\n",
    "def delete_empty_files(folder_path):\n",
    "    # List all files in the folder\n",
    "    files = os.listdir(folder_path)\n",
    "    #img_folder_path = \"../datasets/unlb/img\"\n",
    "    #img_files = os.listdir(img_folder_path)\n",
    "    ct=0\n",
    "    # Iterate through each file\n",
    "    for file_name in files:\n",
    "        file_path = os.path.join(folder_path, file_name)\n",
    "        #print(file_path)\n",
    "        # Check if the file is a text file and not a directory\n",
    "        if file_name.endswith('.txt') and os.path.isfile(file_path):\n",
    "            # Check if the file is empty\n",
    "            #if os.path.getsize(file_path) == 0:\n",
    "            # Check if the file contains any numbers\n",
    "            if contains_numbers(file_path) is False:\n",
    "                # Delete the empty file\n",
    "                #os.remove(file_path)\n",
    "                print(f\"Deleted empty file: {file_name}\")\n",
    "            else:\n",
    "                ct+=1\n",
    "    print(ct)\n",
    "\n",
    "# Replace 'path/to/your/folder' with the actual path to your folder\n",
    "folder_path = \"../datasets/bdss20k/labels/train/\"\n",
    "delete_empty_files(folder_path)"
   ]
  },
  {
   "cell_type": "code",
   "execution_count": null,
   "metadata": {},
   "outputs": [],
   "source": []
  },
  {
   "cell_type": "code",
   "execution_count": null,
   "metadata": {},
   "outputs": [],
   "source": []
  },
  {
   "cell_type": "markdown",
   "metadata": {},
   "source": [
    "### Move files"
   ]
  },
  {
   "cell_type": "code",
   "execution_count": null,
   "metadata": {},
   "outputs": [],
   "source": [
    "import os\n",
    "import shutil\n",
    "# 18681\n",
    "def move_files(source_folder, destination_folder, file_extension='.txt'):\n",
    "    # List all files in the source folder\n",
    "    files = os.listdir(source_folder)\n",
    "\n",
    "    # Iterate through each file\n",
    "    for file_name in files:\n",
    "        source_path = os.path.join(source_folder, file_name)\n",
    "\n",
    "        # Check if the file is of the specified extension\n",
    "        if file_name.endswith(file_extension) and os.path.isfile(source_path):\n",
    "            destination_path = os.path.join(destination_folder, file_name)\n",
    "\n",
    "            # Move the file to the destination folder\n",
    "            shutil.copy(source_path, destination_path)\n",
    "            print(f\"Moved file: {file_name} to {destination_folder}\")\n",
    "\n",
    "# Replace 'path/to/source/folder' and 'path/to/destination/folder' with the actual paths\n",
    "# source_folder = '../datasets/unlb/images'\n",
    "# destination_folder = '../datasets/bdss20k/images/train'\n",
    "\n",
    "source_folder = '../datasets/unlb/labels'\n",
    "destination_folder = '../datasets/bdss20k/labels/train'\n",
    "\n",
    "move_files(source_folder, destination_folder)"
   ]
  },
  {
   "cell_type": "code",
   "execution_count": null,
   "metadata": {},
   "outputs": [],
   "source": []
  },
  {
   "cell_type": "markdown",
   "metadata": {},
   "source": [
    "### Compare if image name in image folder exists in label folder (x.jpg, x.txt)"
   ]
  },
  {
   "cell_type": "code",
   "execution_count": null,
   "metadata": {},
   "outputs": [],
   "source": [
    "import os\n",
    "from natsort import natsorted\n",
    "import glob\n",
    "\n",
    "def compare_folders(folder1, folder2):\n",
    "    # List all files in the first folder\n",
    "    files1 = natsorted(os.listdir(folder1))\n",
    "\n",
    "    # List all files in the second folder\n",
    "    files2 = natsorted(os.listdir(folder2))\n",
    "\n",
    "    #print(files1[0], files2[0])\n",
    "    ct=0\n",
    "    for x,y in zip(files1, files2):\n",
    "        if not os.path.splitext(x)[0] == os.path.splitext(y)[0]:\n",
    "            print(f\"Not match {x}, {y}\")\n",
    "        else:\n",
    "            ct+=1\n",
    "    print(ct)\n",
    "\n",
    "# Replace 'path/to/folder1' and 'path/to/folder2' with the actual paths\n",
    "folder1 = '../datasets/bdss20k/images/val/'\n",
    "folder2 = '../datasets/bdss20k/labels/val/'\n",
    "compare_folders(folder1, folder2)"
   ]
  },
  {
   "cell_type": "markdown",
   "metadata": {},
   "source": [
    "\n",
    "### Check for corrupt images"
   ]
  },
  {
   "cell_type": "code",
   "execution_count": 3,
   "metadata": {},
   "outputs": [],
   "source": [
    "from PIL import Image\n",
    "import os\n",
    "\n",
    "def is_image_corrupt(file_path):\n",
    "    try:\n",
    "        Image.open(file_path).verify()\n",
    "        return False  # Image is not corrupt\n",
    "    except (IOError, SyntaxError):\n",
    "        return True   # Image is corrupt\n",
    "\n",
    "def delete_corrupt_images(folder_path):\n",
    "    # List all files in the folder\n",
    "    files = os.listdir(folder_path)\n",
    "\n",
    "    # Iterate through each file\n",
    "    for file_name in files:\n",
    "        file_path = os.path.join(folder_path, file_name)\n",
    "\n",
    "        # Check if the file is an image (you can modify the condition based on your image file extensions)\n",
    "        if file_name.lower().endswith(('.png', '.jpg', '.jpeg', '.gif', '.bmp')) and os.path.isfile(file_path):\n",
    "            # Check if the image is corrupt\n",
    "            if is_image_corrupt(file_path):\n",
    "                # Delete the corrupt image\n",
    "                #os.remove(file_path)\n",
    "                print(f\"Deleted corrupt image: {file_name}\")\n",
    "\n",
    "# Replace 'path/to/your/folder' with the actual path to your folder\n",
    "folder_path = '../datasets/bdss20k/images/train/'\n",
    "delete_corrupt_images(folder_path)"
   ]
  },
  {
   "cell_type": "code",
   "execution_count": null,
   "metadata": {},
   "outputs": [],
   "source": []
  }
 ],
 "metadata": {
  "kernelspec": {
   "display_name": "bdstreets",
   "language": "python",
   "name": "python3"
  },
  "language_info": {
   "codemirror_mode": {
    "name": "ipython",
    "version": 3
   },
   "file_extension": ".py",
   "mimetype": "text/x-python",
   "name": "python",
   "nbconvert_exporter": "python",
   "pygments_lexer": "ipython3",
   "version": "3.8.18"
  },
  "orig_nbformat": 4
 },
 "nbformat": 4,
 "nbformat_minor": 2
}
