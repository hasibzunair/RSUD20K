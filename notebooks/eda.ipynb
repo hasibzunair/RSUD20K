{
 "cells": [
  {
   "cell_type": "code",
   "execution_count": 5,
   "metadata": {},
   "outputs": [],
   "source": [
    "import os"
   ]
  },
  {
   "cell_type": "markdown",
   "metadata": {},
   "source": [
    "## Data split filenames"
   ]
  },
  {
   "cell_type": "code",
   "execution_count": 20,
   "metadata": {},
   "outputs": [],
   "source": [
    "# Path to dataset\n",
    "PATH_TO_BDSS5K = \"../datasets/bdss5k/\"\n",
    "PATH_TO_BDSS20K = \"../datasets/bdss20k/\"\n",
    "PATH_TO_BDSS_UNLB = \"../datasets/unlb/images\""
   ]
  },
  {
   "cell_type": "code",
   "execution_count": 21,
   "metadata": {},
   "outputs": [],
   "source": [
    "# train images\n",
    "train_filenames = os.listdir(os.path.join(PATH_TO_BDSS5K, \"labels\", \"train\"))\n",
    "train_filenames = [x[:-4] for x in train_filenames]"
   ]
  },
  {
   "cell_type": "code",
   "execution_count": 22,
   "metadata": {},
   "outputs": [
    {
     "data": {
      "text/plain": [
       "['train695',\n",
       " 'train10036',\n",
       " 'train14077',\n",
       " 'train13927',\n",
       " 'train15052',\n",
       " 'train6988',\n",
       " 'train13551',\n",
       " 'train9101',\n",
       " 'train10388',\n",
       " 'train2424']"
      ]
     },
     "execution_count": 22,
     "metadata": {},
     "output_type": "execute_result"
    }
   ],
   "source": [
    "train_filenames[:10]"
   ]
  },
  {
   "cell_type": "code",
   "execution_count": 23,
   "metadata": {},
   "outputs": [
    {
     "data": {
      "text/plain": [
       "3985"
      ]
     },
     "execution_count": 23,
     "metadata": {},
     "output_type": "execute_result"
    }
   ],
   "source": [
    "len(train_filenames)"
   ]
  },
  {
   "cell_type": "code",
   "execution_count": 25,
   "metadata": {},
   "outputs": [],
   "source": [
    "# train pseudo images\n",
    "ps_train_filenames = os.listdir(PATH_TO_BDSS_UNLB)\n",
    "ps_train_filenames = [x[:-4] for x in ps_train_filenames]"
   ]
  },
  {
   "cell_type": "code",
   "execution_count": 26,
   "metadata": {},
   "outputs": [
    {
     "data": {
      "text/plain": [
       "['train11152',\n",
       " 'train1845',\n",
       " 'train3931',\n",
       " 'train18248',\n",
       " 'train14683',\n",
       " 'train4884',\n",
       " 'train1229',\n",
       " 'train11105',\n",
       " 'train16481',\n",
       " 'train5566']"
      ]
     },
     "execution_count": 26,
     "metadata": {},
     "output_type": "execute_result"
    }
   ],
   "source": [
    "ps_train_filenames[:10]"
   ]
  },
  {
   "cell_type": "code",
   "execution_count": 44,
   "metadata": {},
   "outputs": [
    {
     "name": "stdout",
     "output_type": "stream",
     "text": [
      "1004\n"
     ]
    }
   ],
   "source": [
    "val_filenames = os.listdir(os.path.join(PATH_TO_BDSS5K, \"labels\", \"val\"))\n",
    "val_filenames = [x[:-4] for x in val_filenames]\n",
    "print(len(val_filenames))"
   ]
  },
  {
   "cell_type": "code",
   "execution_count": 45,
   "metadata": {},
   "outputs": [
    {
     "name": "stdout",
     "output_type": "stream",
     "text": [
      "649\n"
     ]
    }
   ],
   "source": [
    "test_filenames = os.listdir(os.path.join(PATH_TO_BDSS5K, \"labels\", \"test\"))\n",
    "test_filenames = [x[:-4] for x in test_filenames]\n",
    "print(len(test_filenames))"
   ]
  },
  {
   "cell_type": "code",
   "execution_count": 46,
   "metadata": {},
   "outputs": [],
   "source": [
    "train_bls = [\"train\" for i in range(len(train_filenames))]\n",
    "train_unlb_bls = [\"pseudo\" for i in range(len(ps_train_filenames))]\n",
    "val_bls = [\"val\" for i in range(len(val_filenames))]\n",
    "test_bls = [\"test\" for i in range(len(test_filenames))]"
   ]
  },
  {
   "cell_type": "code",
   "execution_count": 47,
   "metadata": {},
   "outputs": [
    {
     "data": {
      "text/plain": [
       "(3985, 14696, 1004, 649)"
      ]
     },
     "execution_count": 47,
     "metadata": {},
     "output_type": "execute_result"
    }
   ],
   "source": [
    "len(train_bls), len(train_unlb_bls), len(val_bls), len(test_bls)"
   ]
  },
  {
   "cell_type": "code",
   "execution_count": 48,
   "metadata": {},
   "outputs": [],
   "source": [
    "all_train_fns = train_filenames + val_filenames+ test_filenames + ps_train_filenames\n",
    "all_train_bls = train_bls + val_bls + test_bls + train_unlb_bls"
   ]
  },
  {
   "cell_type": "code",
   "execution_count": 49,
   "metadata": {},
   "outputs": [
    {
     "data": {
      "text/plain": [
       "(20334, 20334)"
      ]
     },
     "execution_count": 49,
     "metadata": {},
     "output_type": "execute_result"
    }
   ],
   "source": [
    "len(all_train_fns), len(all_train_bls)"
   ]
  },
  {
   "cell_type": "code",
   "execution_count": 50,
   "metadata": {},
   "outputs": [
    {
     "data": {
      "text/plain": [
       "['train695',\n",
       " 'train10036',\n",
       " 'train14077',\n",
       " 'train13927',\n",
       " 'train15052',\n",
       " 'train6988',\n",
       " 'train13551',\n",
       " 'train9101',\n",
       " 'train10388',\n",
       " 'train2424']"
      ]
     },
     "execution_count": 50,
     "metadata": {},
     "output_type": "execute_result"
    }
   ],
   "source": [
    "all_train_fns[:10]"
   ]
  },
  {
   "cell_type": "code",
   "execution_count": 51,
   "metadata": {},
   "outputs": [
    {
     "data": {
      "text/plain": [
       "['train',\n",
       " 'train',\n",
       " 'train',\n",
       " 'train',\n",
       " 'train',\n",
       " 'train',\n",
       " 'train',\n",
       " 'train',\n",
       " 'train',\n",
       " 'train']"
      ]
     },
     "execution_count": 51,
     "metadata": {},
     "output_type": "execute_result"
    }
   ],
   "source": [
    "all_train_bls[:10]"
   ]
  },
  {
   "cell_type": "code",
   "execution_count": 52,
   "metadata": {},
   "outputs": [
    {
     "name": "stdout",
     "output_type": "stream",
     "text": [
      "CSV file \"split-names.csv\" created successfully.\n"
     ]
    }
   ],
   "source": [
    "import csv\n",
    "\n",
    "output_csv = 'split-names.csv'\n",
    "\n",
    "# Combine the lists into a list of tuples\n",
    "data = list(zip(all_train_fns, all_train_bls))\n",
    "\n",
    "# Open the CSV file for writing\n",
    "with open(output_csv, 'w', newline='') as csvfile:\n",
    "    # Create a CSV writer\n",
    "    csv_writer = csv.writer(csvfile)\n",
    "\n",
    "    # Write the header to the CSV file\n",
    "    csv_writer.writerow(['Filename', 'Split'])\n",
    "\n",
    "    # Write the data to the CSV file\n",
    "    csv_writer.writerows(data)\n",
    "\n",
    "print(f'CSV file \"{output_csv}\" created successfully.')"
   ]
  },
  {
   "cell_type": "code",
   "execution_count": null,
   "metadata": {},
   "outputs": [],
   "source": []
  }
 ],
 "metadata": {
  "kernelspec": {
   "display_name": "bdstreets",
   "language": "python",
   "name": "python3"
  },
  "language_info": {
   "codemirror_mode": {
    "name": "ipython",
    "version": 3
   },
   "file_extension": ".py",
   "mimetype": "text/x-python",
   "name": "python",
   "nbconvert_exporter": "python",
   "pygments_lexer": "ipython3",
   "version": "3.8.18"
  },
  "orig_nbformat": 4
 },
 "nbformat": 4,
 "nbformat_minor": 2
}
